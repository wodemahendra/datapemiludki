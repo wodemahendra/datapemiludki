{
  "nbformat": 4,
  "nbformat_minor": 0,
  "metadata": {
    "colab": {
      "name": "preprocessing.ipynb",
      "provenance": [],
      "authorship_tag": "ABX9TyOGlZV8yMjwkYZGAGdh0pdK",
      "include_colab_link": true
    },
    "kernelspec": {
      "name": "python3",
      "display_name": "Python 3"
    }
  },
  "cells": [
    {
      "cell_type": "markdown",
      "metadata": {
        "id": "view-in-github",
        "colab_type": "text"
      },
      "source": [
        "<a href=\"https://colab.research.google.com/github/wodemahendra/datapemiludki/blob/main/preprocessing.ipynb\" target=\"_parent\"><img src=\"https://colab.research.google.com/assets/colab-badge.svg\" alt=\"Open In Colab\"/></a>"
      ]
    },
    {
      "cell_type": "code",
      "metadata": {
        "id": "xTGsP9XejKra"
      },
      "source": [
        "import numpy as np\n",
        "import matplotlib.pyplot as plt \n",
        "import pandas as pd\n",
        "from google.colab import files\n"
      ],
      "execution_count": 4,
      "outputs": []
    },
    {
      "cell_type": "code",
      "metadata": {
        "id": "kqIuKnzgkSQc"
      },
      "source": [
        "dataset = pd.read_csv('data.csv')\n",
        "x = dataset.iloc[:, :-1].values\n",
        "y = dataset.iloc[:, -1].values"
      ],
      "execution_count": 8,
      "outputs": []
    },
    {
      "cell_type": "code",
      "metadata": {
        "id": "6VrQNJEPlVuV"
      },
      "source": [
        "from sklearn.model_selection import train_test_split\n",
        "x_train, x_test, y_train, y_test = train_test_split(x,y, test_size= 0.2,random_state = 0)"
      ],
      "execution_count": 10,
      "outputs": []
    },
    {
      "cell_type": "code",
      "metadata": {
        "colab": {
          "base_uri": "https://localhost:8080/"
        },
        "id": "9M5DbqqCl5iu",
        "outputId": "8d471dbb-4eac-4af4-d67b-3752809bd9b1"
      },
      "source": [
        "print(x)"
      ],
      "execution_count": 11,
      "outputs": [
        {
          "output_type": "stream",
          "text": [
            "[[1 'Partai Hati Nurani Rakyat' 'H. Jamaluddin Lamanda, SH' ... 'DP-1' 1\n",
            "  '2425']\n",
            " [2 'Partai Hati Nurani Rakyat' 'Suprawito' ... 'DP-1' 2 '3348']\n",
            " [3 'Partai Hati Nurani Rakyat' 'Hj. Endang Barnita' ... 'DP-1' 3 '470']\n",
            " ...\n",
            " [2266 'Partai Buruh' 'RAMLISON SINAGA' ... 'DP-5' 8 '54']\n",
            " [2267 'Partai Buruh' 'DEMRI IDEC JUFLI NAINGGOLAN' ... 'DP-5' 9 '32']\n",
            " [2268 'Partai Buruh' 'IWAN SAPUTRA, S.Sos.' ... 'DP-5' 10 '183']]\n"
          ],
          "name": "stdout"
        }
      ]
    },
    {
      "cell_type": "code",
      "metadata": {
        "colab": {
          "base_uri": "https://localhost:8080/"
        },
        "id": "0_4K_Fx1l7uh",
        "outputId": "1c822704-7700-450b-c607-16e99d0ce16c"
      },
      "source": [
        "print(y)"
      ],
      "execution_count": 12,
      "outputs": [
        {
          "output_type": "stream",
          "text": [
            "['TIDAK' 'YA' 'TIDAK' ... 'TIDAK' 'TIDAK' 'TIDAK']\n"
          ],
          "name": "stdout"
        }
      ]
    },
    {
      "cell_type": "code",
      "metadata": {
        "id": "S0ED2ZRomDPq"
      },
      "source": [
        "#menghilangkan missing value\n",
        "from sklearn.impute import SimpleImputer\n",
        "imputer = SimpleImputer(missing_values=np.nan, strategy='mean')\n",
        "x[:, 1:3]= imputer.transform(x[:, 1:3])\n",
        "#strategy = nilai rata2\n",
        "#missing values = nilai data yang digunakan sebagai penanda bahwa nilai aslinya tidak ada (missing); dalam hal ini NaN (np.nan)"
      ],
      "execution_count": null,
      "outputs": []
    },
    {
      "cell_type": "code",
      "metadata": {
        "colab": {
          "base_uri": "https://localhost:8080/"
        },
        "id": "J_p5Or6DmgvY",
        "outputId": "c2ab8ad2-92f8-43d2-dbcd-7fc907319099"
      },
      "source": [
        "print(x)"
      ],
      "execution_count": 13,
      "outputs": [
        {
          "output_type": "stream",
          "text": [
            "[[1 'Partai Hati Nurani Rakyat' 'H. Jamaluddin Lamanda, SH' ... 'DP-1' 1\n",
            "  '2425']\n",
            " [2 'Partai Hati Nurani Rakyat' 'Suprawito' ... 'DP-1' 2 '3348']\n",
            " [3 'Partai Hati Nurani Rakyat' 'Hj. Endang Barnita' ... 'DP-1' 3 '470']\n",
            " ...\n",
            " [2266 'Partai Buruh' 'RAMLISON SINAGA' ... 'DP-5' 8 '54']\n",
            " [2267 'Partai Buruh' 'DEMRI IDEC JUFLI NAINGGOLAN' ... 'DP-5' 9 '32']\n",
            " [2268 'Partai Buruh' 'IWAN SAPUTRA, S.Sos.' ... 'DP-5' 10 '183']]\n"
          ],
          "name": "stdout"
        }
      ]
    },
    {
      "cell_type": "code",
      "metadata": {
        "id": "HLPMP5pHmkqw"
      },
      "source": [
        "#Encoding data kategori\n",
        "from sklearn.compose import ColumnTransformer\n",
        "from sklearn.preprocessing import OneHotEncoder\n",
        "ct = ColumnTransformer(transformers=[('encoder', OneHotEncoder(), [0])], remainder='passthrough')\n",
        "x = np.array(ct.fit_transform(x))"
      ],
      "execution_count": null,
      "outputs": []
    },
    {
      "cell_type": "code",
      "metadata": {
        "colab": {
          "base_uri": "https://localhost:8080/"
        },
        "id": "Vf7NiSNcnHEs",
        "outputId": "65d2beb9-e956-43a8-dd51-06829793b6cc"
      },
      "source": [
        "print(x)"
      ],
      "execution_count": 15,
      "outputs": [
        {
          "output_type": "stream",
          "text": [
            "[[1 'Partai Hati Nurani Rakyat' 'H. Jamaluddin Lamanda, SH' ... 'DP-1' 1\n",
            "  '2425']\n",
            " [2 'Partai Hati Nurani Rakyat' 'Suprawito' ... 'DP-1' 2 '3348']\n",
            " [3 'Partai Hati Nurani Rakyat' 'Hj. Endang Barnita' ... 'DP-1' 3 '470']\n",
            " ...\n",
            " [2266 'Partai Buruh' 'RAMLISON SINAGA' ... 'DP-5' 8 '54']\n",
            " [2267 'Partai Buruh' 'DEMRI IDEC JUFLI NAINGGOLAN' ... 'DP-5' 9 '32']\n",
            " [2268 'Partai Buruh' 'IWAN SAPUTRA, S.Sos.' ... 'DP-5' 10 '183']]\n"
          ],
          "name": "stdout"
        }
      ]
    },
    {
      "cell_type": "code",
      "metadata": {
        "id": "3xhiIvTknhF8"
      },
      "source": [
        "#Encoding data kategori\n",
        "from sklearn.preprocessing import LabelEncoder\n",
        "le = LabelEncoder()\n",
        "y = le.fit_transform(y)"
      ],
      "execution_count": null,
      "outputs": []
    },
    {
      "cell_type": "code",
      "metadata": {
        "colab": {
          "base_uri": "https://localhost:8080/"
        },
        "id": "m1JW6fgxoNO1",
        "outputId": "60d69226-4e07-44f9-8cfc-687343858dd9"
      },
      "source": [
        "print(y)"
      ],
      "execution_count": 16,
      "outputs": [
        {
          "output_type": "stream",
          "text": [
            "['TIDAK' 'YA' 'TIDAK' ... 'TIDAK' 'TIDAK' 'TIDAK']\n"
          ],
          "name": "stdout"
        }
      ]
    },
    {
      "cell_type": "code",
      "metadata": {
        "id": "aywQ8sHjoSuz"
      },
      "source": [
        "#membagi dataset ke dalam training set\n",
        "from sklearn.model_selection import train_test_split\n",
        "x_test, x_train, y_test, y_train = train_test_split(x,y, test_size = 0.2, random_state=1)"
      ],
      "execution_count": null,
      "outputs": []
    },
    {
      "cell_type": "code",
      "metadata": {
        "colab": {
          "base_uri": "https://localhost:8080/"
        },
        "id": "3AVLEVD0oyO3",
        "outputId": "dd216d7b-0c29-493d-b6df-07781a70bd0e"
      },
      "source": [
        "print(x_train)"
      ],
      "execution_count": 17,
      "outputs": [
        {
          "output_type": "stream",
          "text": [
            "[[1364 ' Partai Persatuan Pembangunan ' 'H. MARSUDIN HASSAN, BA.' ...\n",
            "  'DP-3' 14 '285']\n",
            " [360 'Partai Gerakan Indonesia Raya' ' TJONG SIANTAR ' ... 'DP-5' 13\n",
            "  '1010']\n",
            " [1849 'Partai Patriot' 'SYAFRUDDIN' ... 'DP-2' 5 '143']\n",
            " ...\n",
            " [764 'Partai Kedaulatan' 'Meidiya' ... 'DP-4' 3 '101']\n",
            " [836 'Partai Kebangkitan Bangsa' 'Abdul Syukur Hakam' ... 'DP-4' 7 '318']\n",
            " [1654 'Partai Bulan Bintang' 'MUHAMMAD AMIN' ... 'DP-5' 16 '20']]\n"
          ],
          "name": "stdout"
        }
      ]
    },
    {
      "cell_type": "code",
      "metadata": {
        "colab": {
          "base_uri": "https://localhost:8080/"
        },
        "id": "DIE6y20Qo1rG",
        "outputId": "3de45376-905c-41e5-c959-49cae6690c41"
      },
      "source": [
        "print(x_test)"
      ],
      "execution_count": 18,
      "outputs": [
        {
          "output_type": "stream",
          "text": [
            "[[380 'Partai Barisan Nasional' 'Drs. John F. Takahopekang' ... 'DP-2' 5\n",
            "  '14']\n",
            " [1497 'Partai Damai Sejahtera' 'BEN V.B. SITOMPUL' ... 'DP-4' 11 '1212']\n",
            " [1475 'Partai Damai Sejahtera' 'Drs. ROBERT PELENKAHU' ... 'DP-3' 17\n",
            "  '446']\n",
            " ...\n",
            " [569 'Partai Keadilan Sejahtera' 'Rahmat Syah, S.Pd' ... 'DP-5' 9 '2732']\n",
            " [652 'Partai Amanat Nasional' 'R. Ridha Satria Pratama' ... 'DP-4' 8\n",
            "  '550']\n",
            " [303 'Partai Gerakan Indonesia Raya' 'Haries Munandar' ... 'DP-2' 4\n",
            "  '1189']]\n"
          ],
          "name": "stdout"
        }
      ]
    },
    {
      "cell_type": "code",
      "metadata": {
        "colab": {
          "base_uri": "https://localhost:8080/"
        },
        "id": "QJ4Ek2mRo6cW",
        "outputId": "20a3d706-1840-46f5-89ee-c43e8d3d17ea"
      },
      "source": [
        "print(y_train)"
      ],
      "execution_count": 19,
      "outputs": [
        {
          "output_type": "stream",
          "text": [
            "[' TIDAK ' 'TIDAK' 'TIDAK' ... 'TIDAK' 'TIDAK' 'TIDAK']\n"
          ],
          "name": "stdout"
        }
      ]
    },
    {
      "cell_type": "code",
      "metadata": {
        "colab": {
          "base_uri": "https://localhost:8080/"
        },
        "id": "mY-zpi6No9Ni",
        "outputId": "3779cbc0-150f-461b-ae9d-cfd90b206f78"
      },
      "source": [
        "print(y_test)"
      ],
      "execution_count": 20,
      "outputs": [
        {
          "output_type": "stream",
          "text": [
            "['TIDAK' 'TIDAK' 'TIDAK' 'TIDAK' 'TIDAK' 'TIDAK' 'TIDAK' 'TIDAK' 'TIDAK'\n",
            " 'TIDAK' 'TIDAK' 'TIDAK' 'TIDAK' 'TIDAK' 'TIDAK' 'TIDAK' 'TIDAK' 'TIDAK'\n",
            " ' TIDAK ' 'TIDAK' 'TIDAK' 'TIDAK' 'TIDAK' 'TIDAK' 'TIDAK' 'TIDAK' 'TIDAK'\n",
            " 'TIDAK' ' TIDAK ' 'TIDAK' 'TIDAK' 'TIDAK' 'TIDAK' 'TIDAK' 'TIDAK' 'TIDAK'\n",
            " ' TIDAK ' 'TIDAK' 'TIDAK' ' TIDAK ' 'TIDAK' 'TIDAK' 'TIDAK' 'TIDAK'\n",
            " ' TIDAK ' 'TIDAK' 'TIDAK' 'TIDAK' 'TIDAK' 'TIDAK' 'TIDAK' 'TIDAK' 'TIDAK'\n",
            " 'TIDAK' 'TIDAK' 'TIDAK' 'TIDAK' 'YA' 'TIDAK' 'TIDAK' 'TIDAK' 'TIDAK'\n",
            " 'TIDAK' 'TIDAK' 'TIDAK' 'TIDAK' 'TIDAK' 'TIDAK' 'TIDAK' 'TIDAK' 'TIDAK'\n",
            " 'TIDAK' 'TIDAK' 'TIDAK' 'TIDAK' 'TIDAK' 'TIDAK' 'TIDAK' 'TIDAK' 'TIDAK'\n",
            " 'TIDAK' 'TIDAK' 'TIDAK' 'TIDAK' 'TIDAK' 'TIDAK' 'TIDAK' 'TIDAK' 'TIDAK'\n",
            " 'TIDAK' 'TIDAK' 'TIDAK' 'TIDAK' 'TIDAK' 'TIDAK' 'TIDAK' 'TIDAK' 'TIDAK'\n",
            " 'TIDAK' 'TIDAK' 'TIDAK' 'TIDAK' 'TIDAK' 'TIDAK' 'TIDAK' 'TIDAK' 'TIDAK'\n",
            " 'TIDAK' 'TIDAK' ' TIDAK ' 'TIDAK' 'TIDAK' 'TIDAK' 'TIDAK' 'TIDAK' 'TIDAK'\n",
            " 'TIDAK' 'TIDAK' 'TIDAK' ' TIDAK ' ' TIDAK ' 'TIDAK' 'TIDAK' 'TIDAK'\n",
            " 'TIDAK' 'TIDAK' ' TIDAK ' 'TIDAK' 'TIDAK' 'TIDAK' ' TIDAK ' 'TIDAK'\n",
            " 'TIDAK' 'TIDAK' 'TIDAK' 'TIDAK' 'YA' 'YA' 'TIDAK' 'TIDAK' 'TIDAK' 'TIDAK'\n",
            " 'TIDAK' ' TIDAK ' 'TIDAK' 'TIDAK' 'TIDAK' 'TIDAK' 'TIDAK' 'TIDAK' 'TIDAK'\n",
            " 'TIDAK' 'TIDAK' 'TIDAK' 'TIDAK' 'TIDAK' 'TIDAK' 'TIDAK' 'TIDAK' ' TIDAK '\n",
            " 'TIDAK' 'TIDAK' 'TIDAK' 'TIDAK' 'TIDAK' 'TIDAK' 'TIDAK' 'TIDAK' 'TIDAK'\n",
            " 'TIDAK' 'TIDAK' 'TIDAK' 'TIDAK' 'TIDAK' 'TIDAK' 'TIDAK' ' TIDAK ' 'TIDAK'\n",
            " 'TIDAK' ' TIDAK ' 'TIDAK' 'TIDAK' 'TIDAK' 'TIDAK' 'TIDAK' ' TIDAK '\n",
            " 'TIDAK' 'TIDAK' 'YA' 'TIDAK' 'TIDAK' 'TIDAK' 'TIDAK' 'TIDAK' 'TIDAK'\n",
            " 'TIDAK' 'TIDAK' 'TIDAK' 'TIDAK' 'TIDAK' 'TIDAK' 'TIDAK' 'TIDAK' 'TIDAK'\n",
            " 'TIDAK' 'TIDAK' ' TIDAK ' 'TIDAK' 'TIDAK' 'TIDAK' 'TIDAK' 'TIDAK' 'TIDAK'\n",
            " 'TIDAK' 'TIDAK' 'TIDAK' 'YA' ' TIDAK ' 'TIDAK' ' YA ' 'TIDAK' 'TIDAK'\n",
            " 'TIDAK' ' TIDAK ' 'TIDAK' 'TIDAK' 'TIDAK' 'TIDAK' 'TIDAK' ' TIDAK '\n",
            " 'TIDAK' ' TIDAK ' 'TIDAK' 'TIDAK' 'TIDAK' ' TIDAK ' 'YA' 'TIDAK' 'TIDAK'\n",
            " 'TIDAK' 'TIDAK' 'TIDAK' 'TIDAK' 'TIDAK' 'TIDAK' 'TIDAK' 'TIDAK' 'TIDAK'\n",
            " 'TIDAK' 'TIDAK' 'TIDAK' 'TIDAK' 'TIDAK' 'TIDAK' 'TIDAK' 'TIDAK' 'TIDAK'\n",
            " 'TIDAK' 'TIDAK' 'TIDAK' ' TIDAK ' 'TIDAK' 'TIDAK' 'TIDAK' 'TIDAK' 'TIDAK'\n",
            " 'TIDAK' 'TIDAK' 'TIDAK' 'TIDAK' 'TIDAK' 'TIDAK' 'TIDAK' 'TIDAK' 'TIDAK'\n",
            " 'TIDAK' 'TIDAK' 'TIDAK' 'TIDAK' 'TIDAK' ' TIDAK ' 'TIDAK' 'TIDAK' 'TIDAK'\n",
            " 'TIDAK' 'TIDAK' 'TIDAK' 'TIDAK' 'TIDAK' ' TIDAK ' 'TIDAK' 'TIDAK' 'TIDAK'\n",
            " 'TIDAK' 'TIDAK' 'TIDAK' 'TIDAK' 'TIDAK' 'TIDAK' 'TIDAK' 'TIDAK' 'YA'\n",
            " 'TIDAK' 'TIDAK' 'TIDAK' 'TIDAK' 'TIDAK' 'TIDAK' 'TIDAK' 'YA' 'TIDAK'\n",
            " 'TIDAK' 'TIDAK' 'TIDAK' 'TIDAK' 'TIDAK' 'TIDAK' 'TIDAK' 'TIDAK' 'TIDAK'\n",
            " 'TIDAK' 'TIDAK' 'TIDAK' 'TIDAK' 'TIDAK' 'TIDAK' 'TIDAK' 'TIDAK' 'TIDAK'\n",
            " 'TIDAK' 'TIDAK' ' TIDAK ' 'TIDAK' 'TIDAK' 'TIDAK' 'TIDAK' 'TIDAK' 'TIDAK'\n",
            " 'TIDAK' 'TIDAK' 'TIDAK' ' TIDAK ' 'TIDAK' 'TIDAK' 'TIDAK' 'TIDAK' 'TIDAK'\n",
            " ' TIDAK ' 'YA' 'TIDAK' 'TIDAK' 'TIDAK' 'TIDAK' 'TIDAK' 'TIDAK' 'TIDAK'\n",
            " 'TIDAK' 'TIDAK' 'TIDAK' 'TIDAK' 'TIDAK' 'TIDAK' 'TIDAK' 'TIDAK' ' TIDAK '\n",
            " 'TIDAK' 'TIDAK' ' TIDAK ' 'TIDAK' 'TIDAK' 'TIDAK' 'TIDAK' 'TIDAK' 'TIDAK'\n",
            " 'TIDAK' 'TIDAK' ' TIDAK ' 'TIDAK' ' TIDAK ' 'TIDAK' 'TIDAK' 'TIDAK'\n",
            " 'TIDAK' 'TIDAK' 'TIDAK' 'TIDAK' 'TIDAK' 'TIDAK' ' TIDAK ' 'YA' 'TIDAK'\n",
            " 'TIDAK' 'TIDAK' 'TIDAK' 'TIDAK' 'TIDAK' 'TIDAK' 'TIDAK' 'TIDAK' 'TIDAK'\n",
            " 'TIDAK' 'TIDAK' 'TIDAK' 'TIDAK' 'TIDAK' 'TIDAK' 'TIDAK' 'TIDAK' 'TIDAK'\n",
            " ' TIDAK ' 'TIDAK' 'TIDAK' 'YA' 'TIDAK' 'TIDAK' 'TIDAK' 'TIDAK' 'TIDAK'\n",
            " 'YA' 'TIDAK' 'TIDAK' 'TIDAK' 'TIDAK' 'TIDAK' 'TIDAK' 'TIDAK' 'TIDAK'\n",
            " 'TIDAK' 'TIDAK' 'TIDAK' 'TIDAK' 'TIDAK' 'TIDAK' 'TIDAK' 'TIDAK' 'TIDAK'\n",
            " 'TIDAK' 'TIDAK' 'TIDAK' 'TIDAK' 'TIDAK' 'TIDAK' 'TIDAK' 'TIDAK' 'TIDAK'\n",
            " 'TIDAK' 'TIDAK' 'TIDAK' ' TIDAK ' 'TIDAK' 'TIDAK' 'TIDAK' 'TIDAK' 'TIDAK']\n"
          ],
          "name": "stdout"
        }
      ]
    },
    {
      "cell_type": "code",
      "metadata": {
        "id": "o98Biz2KpCle"
      },
      "source": [
        "#Feature Scaling\n",
        "from sklearn.preprocessing import StandardScaler\n",
        "sc = StandardScaler()\n",
        "x_train[:, 3:]= sc.fit_transform(x_train[:, 3:])\n",
        "x_test[:, 3:]= sc.transform(x_test[:, 3:])"
      ],
      "execution_count": null,
      "outputs": []
    },
    {
      "cell_type": "code",
      "metadata": {
        "colab": {
          "base_uri": "https://localhost:8080/"
        },
        "id": "k_9_qLNYpjrs",
        "outputId": "7552c153-0a6d-4784-a312-6562b26ecd00"
      },
      "source": [
        "print(x_train)"
      ],
      "execution_count": 21,
      "outputs": [
        {
          "output_type": "stream",
          "text": [
            "[[1364 ' Partai Persatuan Pembangunan ' 'H. MARSUDIN HASSAN, BA.' ...\n",
            "  'DP-3' 14 '285']\n",
            " [360 'Partai Gerakan Indonesia Raya' ' TJONG SIANTAR ' ... 'DP-5' 13\n",
            "  '1010']\n",
            " [1849 'Partai Patriot' 'SYAFRUDDIN' ... 'DP-2' 5 '143']\n",
            " ...\n",
            " [764 'Partai Kedaulatan' 'Meidiya' ... 'DP-4' 3 '101']\n",
            " [836 'Partai Kebangkitan Bangsa' 'Abdul Syukur Hakam' ... 'DP-4' 7 '318']\n",
            " [1654 'Partai Bulan Bintang' 'MUHAMMAD AMIN' ... 'DP-5' 16 '20']]\n"
          ],
          "name": "stdout"
        }
      ]
    },
    {
      "cell_type": "code",
      "metadata": {
        "colab": {
          "base_uri": "https://localhost:8080/"
        },
        "id": "Rxv0DcPFpnVg",
        "outputId": "f6672278-57ba-405d-a2a1-a5563f99d06c"
      },
      "source": [
        "print(x_test)"
      ],
      "execution_count": 22,
      "outputs": [
        {
          "output_type": "stream",
          "text": [
            "[[380 'Partai Barisan Nasional' 'Drs. John F. Takahopekang' ... 'DP-2' 5\n",
            "  '14']\n",
            " [1497 'Partai Damai Sejahtera' 'BEN V.B. SITOMPUL' ... 'DP-4' 11 '1212']\n",
            " [1475 'Partai Damai Sejahtera' 'Drs. ROBERT PELENKAHU' ... 'DP-3' 17\n",
            "  '446']\n",
            " ...\n",
            " [569 'Partai Keadilan Sejahtera' 'Rahmat Syah, S.Pd' ... 'DP-5' 9 '2732']\n",
            " [652 'Partai Amanat Nasional' 'R. Ridha Satria Pratama' ... 'DP-4' 8\n",
            "  '550']\n",
            " [303 'Partai Gerakan Indonesia Raya' 'Haries Munandar' ... 'DP-2' 4\n",
            "  '1189']]\n"
          ],
          "name": "stdout"
        }
      ]
    }
  ]
}